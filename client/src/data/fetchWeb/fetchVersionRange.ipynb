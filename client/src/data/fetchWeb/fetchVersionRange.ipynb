{
  "nbformat": 4,
  "nbformat_minor": 0,
  "metadata": {
    "colab": {
      "provenance": []
    },
    "kernelspec": {
      "name": "python3",
      "display_name": "Python 3"
    },
    "language_info": {
      "name": "python"
    }
  },
  "cells": [
    {
      "cell_type": "markdown",
      "source": [
        "Fetch Website Content"
      ],
      "metadata": {
        "id": "MS6X9miuYWNB"
      }
    },
    {
      "cell_type": "code",
      "execution_count": 1,
      "metadata": {
        "colab": {
          "base_uri": "https://localhost:8080/"
        },
        "id": "roWrZYM0Xp7k",
        "outputId": "f3618ef2-5128-419d-fed8-af09d83cb0da"
      },
      "outputs": [
        {
          "output_type": "stream",
          "name": "stdout",
          "text": [
            "Requirement already satisfied: requests in /usr/local/lib/python3.10/dist-packages (2.31.0)\n",
            "Requirement already satisfied: charset-normalizer<4,>=2 in /usr/local/lib/python3.10/dist-packages (from requests) (3.2.0)\n",
            "Requirement already satisfied: idna<4,>=2.5 in /usr/local/lib/python3.10/dist-packages (from requests) (3.4)\n",
            "Requirement already satisfied: urllib3<3,>=1.21.1 in /usr/local/lib/python3.10/dist-packages (from requests) (1.26.16)\n",
            "Requirement already satisfied: certifi>=2017.4.17 in /usr/local/lib/python3.10/dist-packages (from requests) (2023.7.22)\n"
          ]
        }
      ],
      "source": [
        "!pip install requests --upgrade"
      ]
    },
    {
      "cell_type": "code",
      "source": [
        "import requests\n",
        "import time\n",
        "import random"
      ],
      "metadata": {
        "id": "E7_BQ9KlX0KY"
      },
      "execution_count": 2,
      "outputs": []
    },
    {
      "cell_type": "code",
      "source": [
        "web_url = \"https://libraries.io\""
      ],
      "metadata": {
        "id": "wb19Zzb2X0P4"
      },
      "execution_count": 3,
      "outputs": []
    },
    {
      "cell_type": "code",
      "source": [
        "response = requests.get(web_url)"
      ],
      "metadata": {
        "id": "XQDKMkhkX0S1"
      },
      "execution_count": 4,
      "outputs": []
    },
    {
      "cell_type": "code",
      "source": [
        "response.status_code"
      ],
      "metadata": {
        "colab": {
          "base_uri": "https://localhost:8080/"
        },
        "id": "XI3XWKXXX0Vi",
        "outputId": "210add8b-2566-4eb0-fd08-93010173dcb8"
      },
      "execution_count": 5,
      "outputs": [
        {
          "output_type": "execute_result",
          "data": {
            "text/plain": [
              "200"
            ]
          },
          "metadata": {},
          "execution_count": 5
        }
      ]
    },
    {
      "cell_type": "code",
      "source": [
        "len(response.text)"
      ],
      "metadata": {
        "colab": {
          "base_uri": "https://localhost:8080/"
        },
        "id": "vDiwIFYlX0X2",
        "outputId": "62d47ecf-f493-44ea-fb8b-a61d4ae57004"
      },
      "execution_count": 6,
      "outputs": [
        {
          "output_type": "execute_result",
          "data": {
            "text/plain": [
              "21707"
            ]
          },
          "metadata": {},
          "execution_count": 6
        }
      ]
    },
    {
      "cell_type": "code",
      "source": [
        "page_contents = response.text"
      ],
      "metadata": {
        "id": "0vYrDBIeY2Xz"
      },
      "execution_count": 9,
      "outputs": []
    },
    {
      "cell_type": "markdown",
      "source": [
        "Parse Data"
      ],
      "metadata": {
        "id": "B2VqM8gjYRRY"
      }
    },
    {
      "cell_type": "code",
      "source": [
        "!pip install beautifulsoup4 --upgrade --quiet"
      ],
      "metadata": {
        "colab": {
          "base_uri": "https://localhost:8080/"
        },
        "id": "trSKy7rKX0aE",
        "outputId": "c7987165-5110-4bf7-9c36-6fcb3f687f32"
      },
      "execution_count": 7,
      "outputs": [
        {
          "output_type": "stream",
          "name": "stdout",
          "text": [
            "\u001b[?25l     \u001b[90m━━━━━━━━━━━━━━━━━━━━━━━━━━━━━━━━━━━━━━━━\u001b[0m \u001b[32m0.0/143.0 kB\u001b[0m \u001b[31m?\u001b[0m eta \u001b[36m-:--:--\u001b[0m\r\u001b[2K     \u001b[90m━━━━━━━━━━━━━━━━━━━━━━━━━━━━━━━━━━━━━━━\u001b[0m \u001b[32m143.0/143.0 kB\u001b[0m \u001b[31m4.5 MB/s\u001b[0m eta \u001b[36m0:00:00\u001b[0m\n",
            "\u001b[?25h"
          ]
        }
      ]
    },
    {
      "cell_type": "code",
      "source": [
        "from bs4 import BeautifulSoup"
      ],
      "metadata": {
        "id": "31fGBmUjYr9J"
      },
      "execution_count": 8,
      "outputs": []
    },
    {
      "cell_type": "code",
      "source": [
        "doc = BeautifulSoup(page_contents, 'html.parser')"
      ],
      "metadata": {
        "id": "gsd9c2rmYsEA"
      },
      "execution_count": 10,
      "outputs": []
    },
    {
      "cell_type": "code",
      "source": [
        "pkg_manager_tags = doc.find_all('div', { 'class': 'blurb'})"
      ],
      "metadata": {
        "id": "rahOzk0qYsMo"
      },
      "execution_count": 15,
      "outputs": []
    },
    {
      "cell_type": "code",
      "source": [
        "pkg_managers_url = []\n",
        "for pkg_manager_tag in pkg_manager_tags:\n",
        "  pkg_manager_name = pkg_manager_tag.find('a').text\n",
        "  pkg_managers_url.append(web_url + \"/search?order=desc&platforms=\" + pkg_manager_name + \"&sort=rank\")\n",
        "pkg_managers_url"
      ],
      "metadata": {
        "colab": {
          "base_uri": "https://localhost:8080/",
          "height": 35
        },
        "id": "9QJ07NCLamhX",
        "outputId": "21a856c6-833d-44d3-f505-7774f57d7acd"
      },
      "execution_count": 37,
      "outputs": [
        {
          "output_type": "execute_result",
          "data": {
            "text/plain": [
              "'https://libraries.io/search?order=desc&platforms=npm&sort=rank'"
            ],
            "application/vnd.google.colaboratory.intrinsic+json": {
              "type": "string"
            }
          },
          "metadata": {},
          "execution_count": 37
        }
      ]
    },
    {
      "cell_type": "markdown",
      "source": [
        "Method1: Package Manager Popular Library Page"
      ],
      "metadata": {
        "id": "Z7o8guh5kOt4"
      }
    },
    {
      "cell_type": "code",
      "source": [
        "required_pkgs = ['wxpython', 'tensorflow', 'tfds', 'tensorboard', 'pytorch', 'numpy',\n",
        "    'scipy', 'scikit-learn', 'pandas', 'keras', 'flask', 'tensorflow-transform', 'zappa',\n",
        "    'subprocess', 'sqlalchemy', 'psycopg', 'flask-sqlalchemy', 'airflow', 'fftw', 'tensorflow-core-platform',\n",
        "                 'cuda', 'cudnn', 'python', 'ubuntu', 'windows', 'macos', 'centos', 'android', 'ios', 'debian',\n",
        "                 'bazel', 'glibc', 'jetpack', 'gcc', 'gzip', 'coremltools', 'postgres', 'mysql', 'blender', 'emr']"
      ],
      "metadata": {
        "id": "zlYMWHVNntR3"
      },
      "execution_count": 62,
      "outputs": []
    },
    {
      "cell_type": "code",
      "source": [
        "len(required_pkgs)"
      ],
      "metadata": {
        "colab": {
          "base_uri": "https://localhost:8080/"
        },
        "id": "Nik_BGMeoo_P",
        "outputId": "434345cb-10f7-4a04-b50e-0899ef4df557"
      },
      "execution_count": 41,
      "outputs": [
        {
          "output_type": "execute_result",
          "data": {
            "text/plain": [
              "40"
            ]
          },
          "metadata": {},
          "execution_count": 41
        }
      ]
    },
    {
      "cell_type": "code",
      "source": [
        "libs_tag = []\n",
        "for pkg_manager_url in pkg_managers_url:\n",
        "  #print(pkg_manager_url)\n",
        "  child_response = requests.get(pkg_manager_url)\n",
        "  if (child_response.status_code != 200):\n",
        "    print('error')\n",
        "    continue\n",
        "  child_doc = BeautifulSoup(child_response.text, 'html.parser')\n",
        "  libs_title_tags = child_doc.find_all('div', {'class': 'project'})[:100]\n",
        "  for libs_title_tag in libs_title_tags:\n",
        "    libs_title = libs_title_tag.find('a').text\n",
        "    if (libs_title in required_pkgs):\n",
        "      print(libs_title)\n",
        "      libs_tag.append(libs_title)\n",
        "len(libs_tag)"
      ],
      "metadata": {
        "id": "d1rQYBttamk0"
      },
      "execution_count": null,
      "outputs": []
    },
    {
      "cell_type": "markdown",
      "source": [
        "Method2: Search for Certain Packages"
      ],
      "metadata": {
        "id": "Qh9Q7rnyrJPv"
      }
    },
    {
      "cell_type": "code",
      "source": [
        "revised_required_pkgs = ['wxpython', 'tensorflow', 'tensorflow-datasets', 'tensorboard', 'pytorch', 'numpy',\n",
        "    'scipy', 'scikit-learn', 'pandas', 'keras', 'flask', 'zappa',\n",
        "    'subprocess', 'sqlalchemy', 'psycopg', 'flask-sqlalchemy', 'tensorflow-core-platform']\n",
        "outlier_required_pkgs = ['tensorflow-transform', 'airflow', 'fftw']"
      ],
      "metadata": {
        "id": "nx-AUIRKFPqs"
      },
      "execution_count": 65,
      "outputs": []
    },
    {
      "cell_type": "code",
      "source": [
        "def get_response(url):\n",
        "  response = requests.get(url)\n",
        "  if (response.status_code != 200):\n",
        "    print(\"Fetch Error, retrying ...\")\n",
        "    time.sleep(random.uniform(0, 5))\n",
        "    response = requests.get(url)\n",
        "    if (response.status_code != 200):\n",
        "      print(\"FETCH ERROR AGAIN\")\n",
        "      return -1\n",
        "  else:\n",
        "    return response"
      ],
      "metadata": {
        "id": "3B1JSnt2ihes"
      },
      "execution_count": 118,
      "outputs": []
    },
    {
      "cell_type": "code",
      "source": [
        "import re\n",
        "\n",
        "def contains_non_numeric_chars(string):\n",
        "    pattern = r'[^0-9.]'\n",
        "    match = re.search(pattern, string)\n",
        "    return match is not None"
      ],
      "metadata": {
        "id": "9ZMLGqwgu0m7"
      },
      "execution_count": 134,
      "outputs": []
    },
    {
      "cell_type": "code",
      "source": [
        "def obtain_max_vertion(doc):\n",
        "  num = 0\n",
        "  max_version = doc.find('table', { 'class': 'table'}).find('a').text\n",
        "  while (contains_non_numeric_chars(max_version)):\n",
        "    num += 1\n",
        "    max_version = doc.find('table', { 'class': 'table'}).find_all('a')[num].text\n",
        "  return max_version"
      ],
      "metadata": {
        "id": "ss6NX2psuaWM"
      },
      "execution_count": 135,
      "outputs": []
    },
    {
      "cell_type": "code",
      "source": [
        "def obtain_min_version(doc):\n",
        "  num = -1\n",
        "  min_version = doc.find('table', { 'class': 'table'}).find_all('tr')[-1].find('a').text\n",
        "  while (contains_non_numeric_chars(min_version)):\n",
        "    num -= 1\n",
        "    min_version = doc.find('table', { 'class': 'table'}).find_all('tr')[num].find('a').text\n",
        "  return min_version"
      ],
      "metadata": {
        "id": "ssewtOKLvTLd"
      },
      "execution_count": 136,
      "outputs": []
    },
    {
      "cell_type": "code",
      "source": [
        "def url_to_ver(pkg_url):\n",
        "  pkg_response = get_response(pkg_url)\n",
        "  pkg_doc = BeautifulSoup(pkg_response.text, 'html.parser')\n",
        "  # obtain max_version\n",
        "  max_version = obtain_max_vertion(pkg_doc)\n",
        "  # max_version = pkg_doc.find('table', { 'class': 'table'}).find('a').text\n",
        "  # obtain min_version\n",
        "  prev_li = pkg_doc.find('li', {'class': 'prev disabled'})\n",
        "  next_li = pkg_doc.find('li', {'class': 'next'})\n",
        "  if (prev_li == None ): # only have one page\n",
        "    min_version = obtain_min_version(pkg_doc)\n",
        "    # min_version = pkg_doc.find('table', { 'class': 'table'}).find_all('tr')[-1].find('a').text\n",
        "  else: # have multiple pages\n",
        "    page_count = 0\n",
        "    for sibling in prev_li.next_siblings:\n",
        "      if sibling == next_li:\n",
        "        break\n",
        "      if sibling.name == \"li\":\n",
        "        page_count += 1\n",
        "    min_version_url = pkg_url + '?page=' + str(page_count)\n",
        "    min_response = get_response(min_version_url)\n",
        "    min_doc = BeautifulSoup(min_response.text, 'html.parser')\n",
        "    min_version = obtain_min_version(min_doc)\n",
        "    # min_version = min_doc.find('table', { 'class': 'table'}).find_all('tr')[-1].find('a').text\n",
        "  return min_version, max_version"
      ],
      "metadata": {
        "id": "1HdJ-H0jhprf"
      },
      "execution_count": 137,
      "outputs": []
    },
    {
      "cell_type": "code",
      "source": [
        "look_up_dic = {}"
      ],
      "metadata": {
        "id": "FYdwA42UaujY"
      },
      "execution_count": 138,
      "outputs": []
    },
    {
      "cell_type": "code",
      "source": [
        "# pkg_topResults_url = []\n",
        "fetch_count = 0\n",
        "for pkg in revised_required_pkgs:\n",
        "  fetch_count += 1\n",
        "  if fetch_count % 5 == 0:\n",
        "    time.sleep(random.uniform(0, 200))\n",
        "  search_url = \"https://libraries.io/search?q=\" + pkg\n",
        "  search_response = get_response(search_url)\n",
        "  search_doc = BeautifulSoup(search_response.text, 'html.parser')\n",
        "  topResult_url = search_doc.find('div', {'class': 'project'}).find('h5').find('a')['href']\n",
        "  if (topResult_url == None):\n",
        "    print(pkg + \" not find.\")\n",
        "    continue\n",
        "  # pkg_topResults_url.append(web_url + topResult_url + \"/versions\")\n",
        "  look_up_dic[pkg] = url_to_ver(web_url + topResult_url + \"/versions\")\n",
        "for pkg in outlier_required_pkgs:\n",
        "  fetch_count += 1\n",
        "  if fetch_count % 5 == 0:\n",
        "    time.sleep(random.uniform(0, 200))\n",
        "  search_url = \"https://libraries.io/search?q=\" + pkg\n",
        "  search_response = get_response(search_url)\n",
        "  search_doc = BeautifulSoup(search_response.text, 'html.parser')\n",
        "  topResult_url = search_doc.find_all('div', {'class': 'project'})[1].find('h5').find('a')['href']\n",
        "  if (topResult_url == None):\n",
        "    print(pkg + \" not find.\")\n",
        "    continue\n",
        "  # pkg_topResults_url.append(web_url + topResult_url + \"/versions\")\n",
        "  look_up_dic[pkg] = url_to_ver(web_url + topResult_url + \"/versions\")\n",
        "look_up_dic"
      ],
      "metadata": {
        "colab": {
          "base_uri": "https://localhost:8080/"
        },
        "id": "OPm01lZLrNif",
        "outputId": "9d7e32df-5a59-4a47-ceaa-dc07f82b6707"
      },
      "execution_count": 139,
      "outputs": [
        {
          "output_type": "execute_result",
          "data": {
            "text/plain": [
              "{'wxpython': ('2.8.11.0', '4.2.1'),\n",
              " 'tensorflow': ('0.10.0', '2.12.0'),\n",
              " 'tensorflow-datasets': ('0.0.1', '4.9.2'),\n",
              " 'tensorboard': ('1.6.0', '2.14.0'),\n",
              " 'pytorch': ('0.2.0', '2.0.1'),\n",
              " 'numpy': ('1.0', '1.25.2'),\n",
              " 'scipy': ('0.4.4', '1.11.1'),\n",
              " 'scikit-learn': ('0.9', '1.3.0'),\n",
              " 'pandas': ('0.1', '2.0.3'),\n",
              " 'keras': ('0.2.0', '2.13.1'),\n",
              " 'flask': ('0.1', '2.3.2'),\n",
              " 'zappa': ('0.1.0', '0.57.0'),\n",
              " 'subprocess': ('0.1.0', '0.2.9'),\n",
              " 'sqlalchemy': ('0.1.0', '2.0.19'),\n",
              " 'psycopg': ('1.1.21', '3.1.10'),\n",
              " 'flask-sqlalchemy': ('0.5', '3.0.5'),\n",
              " 'tensorflow-core-platform': ('0.2.0', '0.5.0'),\n",
              " 'tensorflow-transform': ('0.1.0', '1.13.0'),\n",
              " 'airflow': ('1.10.3', '2.4.3'),\n",
              " 'fftw': ('3.3.4', '3.3.10')}"
            ]
          },
          "metadata": {},
          "execution_count": 139
        }
      ]
    },
    {
      "cell_type": "markdown",
      "source": [
        "Convert Dic to Json File"
      ],
      "metadata": {
        "id": "JNTjU9SLoeSt"
      }
    },
    {
      "cell_type": "code",
      "source": [
        "import json"
      ],
      "metadata": {
        "id": "PKAAOrjaomIw"
      },
      "execution_count": 140,
      "outputs": []
    },
    {
      "cell_type": "code",
      "source": [
        "COMPONENT_VERSION_RANGE = {}"
      ],
      "metadata": {
        "id": "KOsb9gohpQfd"
      },
      "execution_count": 141,
      "outputs": []
    },
    {
      "cell_type": "code",
      "source": [
        "for key, value in look_up_dic.items():\n",
        "    if value is not None:\n",
        "        min_version, max_version = value\n",
        "        COMPONENT_VERSION_RANGE[key] = {\n",
        "            'min': min_version,\n",
        "            'max': max_version\n",
        "        }"
      ],
      "metadata": {
        "id": "tfbeI9GJpId8"
      },
      "execution_count": 142,
      "outputs": []
    },
    {
      "cell_type": "code",
      "source": [
        "COMPONENT_VERSION_RANGE"
      ],
      "metadata": {
        "colab": {
          "base_uri": "https://localhost:8080/"
        },
        "id": "NToOlSZhrUWb",
        "outputId": "29a6a0d5-5b74-42c0-f197-73b79b55bf22"
      },
      "execution_count": 143,
      "outputs": [
        {
          "output_type": "execute_result",
          "data": {
            "text/plain": [
              "{'wxpython': {'min': '2.8.11.0', 'max': '4.2.1'},\n",
              " 'tensorflow': {'min': '0.10.0', 'max': '2.12.0'},\n",
              " 'tensorflow-datasets': {'min': '0.0.1', 'max': '4.9.2'},\n",
              " 'tensorboard': {'min': '1.6.0', 'max': '2.14.0'},\n",
              " 'pytorch': {'min': '0.2.0', 'max': '2.0.1'},\n",
              " 'numpy': {'min': '1.0', 'max': '1.25.2'},\n",
              " 'scipy': {'min': '0.4.4', 'max': '1.11.1'},\n",
              " 'scikit-learn': {'min': '0.9', 'max': '1.3.0'},\n",
              " 'pandas': {'min': '0.1', 'max': '2.0.3'},\n",
              " 'keras': {'min': '0.2.0', 'max': '2.13.1'},\n",
              " 'flask': {'min': '0.1', 'max': '2.3.2'},\n",
              " 'zappa': {'min': '0.1.0', 'max': '0.57.0'},\n",
              " 'subprocess': {'min': '0.1.0', 'max': '0.2.9'},\n",
              " 'sqlalchemy': {'min': '0.1.0', 'max': '2.0.19'},\n",
              " 'psycopg': {'min': '1.1.21', 'max': '3.1.10'},\n",
              " 'flask-sqlalchemy': {'min': '0.5', 'max': '3.0.5'},\n",
              " 'tensorflow-core-platform': {'min': '0.2.0', 'max': '0.5.0'},\n",
              " 'tensorflow-transform': {'min': '0.1.0', 'max': '1.13.0'},\n",
              " 'airflow': {'min': '1.10.3', 'max': '2.4.3'},\n",
              " 'fftw': {'min': '3.3.4', 'max': '3.3.10'}}"
            ]
          },
          "metadata": {},
          "execution_count": 143
        }
      ]
    },
    {
      "cell_type": "code",
      "source": [
        "file_path = 'version.json'\n",
        "with open(file_path, 'w') as json_file:\n",
        "    json.dump(COMPONENT_VERSION_RANGE, json_file, indent=4)"
      ],
      "metadata": {
        "id": "Ncam2bBlrX9T"
      },
      "execution_count": 144,
      "outputs": []
    }
  ]
}
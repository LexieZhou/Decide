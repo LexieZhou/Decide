{
  "cells": [
    {
      "cell_type": "markdown",
      "metadata": {
        "id": "MS6X9miuYWNB"
      },
      "source": [
        "Fetch Website Content"
      ]
    },
    {
      "cell_type": "code",
      "execution_count": 3,
      "metadata": {
        "colab": {
          "base_uri": "https://localhost:8080/"
        },
        "id": "roWrZYM0Xp7k",
        "outputId": "f3618ef2-5128-419d-fed8-af09d83cb0da"
      },
      "outputs": [
        {
          "name": "stdout",
          "output_type": "stream",
          "text": [
            "Requirement already satisfied: requests in /Users/lexiezhou/anaconda3/lib/python3.11/site-packages (2.31.0)\n",
            "Requirement already satisfied: charset-normalizer<4,>=2 in /Users/lexiezhou/anaconda3/lib/python3.11/site-packages (from requests) (2.0.4)\n",
            "Requirement already satisfied: idna<4,>=2.5 in /Users/lexiezhou/anaconda3/lib/python3.11/site-packages (from requests) (3.4)\n",
            "Requirement already satisfied: urllib3<3,>=1.21.1 in /Users/lexiezhou/anaconda3/lib/python3.11/site-packages (from requests) (1.26.16)\n",
            "Requirement already satisfied: certifi>=2017.4.17 in /Users/lexiezhou/anaconda3/lib/python3.11/site-packages (from requests) (2023.7.22)\n"
          ]
        }
      ],
      "source": [
        "!pip install requests --upgrade"
      ]
    },
    {
      "cell_type": "code",
      "execution_count": 4,
      "metadata": {
        "id": "E7_BQ9KlX0KY"
      },
      "outputs": [],
      "source": [
        "import requests\n",
        "import time\n",
        "import random"
      ]
    },
    {
      "cell_type": "code",
      "execution_count": 5,
      "metadata": {
        "id": "wb19Zzb2X0P4"
      },
      "outputs": [],
      "source": [
        "web_url = \"https://libraries.io\""
      ]
    },
    {
      "cell_type": "code",
      "execution_count": 6,
      "metadata": {
        "id": "XQDKMkhkX0S1"
      },
      "outputs": [],
      "source": [
        "response = requests.get(web_url)"
      ]
    },
    {
      "cell_type": "code",
      "execution_count": 7,
      "metadata": {
        "colab": {
          "base_uri": "https://localhost:8080/"
        },
        "id": "XI3XWKXXX0Vi",
        "outputId": "210add8b-2566-4eb0-fd08-93010173dcb8"
      },
      "outputs": [
        {
          "data": {
            "text/plain": [
              "200"
            ]
          },
          "execution_count": 7,
          "metadata": {},
          "output_type": "execute_result"
        }
      ],
      "source": [
        "response.status_code"
      ]
    },
    {
      "cell_type": "code",
      "execution_count": 8,
      "metadata": {
        "colab": {
          "base_uri": "https://localhost:8080/"
        },
        "id": "vDiwIFYlX0X2",
        "outputId": "62d47ecf-f493-44ea-fb8b-a61d4ae57004"
      },
      "outputs": [
        {
          "data": {
            "text/plain": [
              "21765"
            ]
          },
          "execution_count": 8,
          "metadata": {},
          "output_type": "execute_result"
        }
      ],
      "source": [
        "len(response.text)"
      ]
    },
    {
      "cell_type": "code",
      "execution_count": 9,
      "metadata": {
        "id": "0vYrDBIeY2Xz"
      },
      "outputs": [],
      "source": [
        "page_contents = response.text"
      ]
    },
    {
      "cell_type": "markdown",
      "metadata": {
        "id": "B2VqM8gjYRRY"
      },
      "source": [
        "Parse Data"
      ]
    },
    {
      "cell_type": "code",
      "execution_count": 10,
      "metadata": {
        "colab": {
          "base_uri": "https://localhost:8080/"
        },
        "id": "trSKy7rKX0aE",
        "outputId": "c7987165-5110-4bf7-9c36-6fcb3f687f32"
      },
      "outputs": [],
      "source": [
        "!pip install beautifulsoup4 --upgrade --quiet"
      ]
    },
    {
      "cell_type": "code",
      "execution_count": 11,
      "metadata": {
        "id": "31fGBmUjYr9J"
      },
      "outputs": [],
      "source": [
        "from bs4 import BeautifulSoup"
      ]
    },
    {
      "cell_type": "code",
      "execution_count": 12,
      "metadata": {
        "id": "gsd9c2rmYsEA"
      },
      "outputs": [],
      "source": [
        "doc = BeautifulSoup(page_contents, 'html.parser')"
      ]
    },
    {
      "cell_type": "markdown",
      "metadata": {
        "id": "Z7o8guh5kOt4"
      },
      "source": [
        "Method1: Package Manager Popular Library Page"
      ]
    },
    {
      "cell_type": "code",
      "execution_count": 13,
      "metadata": {
        "id": "zlYMWHVNntR3"
      },
      "outputs": [],
      "source": [
        "required_pkgs = ['wxpython', 'tensorflow', 'tfds', 'tensorboard', 'pytorch', 'numpy',\n",
        "    'scipy', 'scikit-learn', 'pandas', 'keras', 'flask', 'tensorflow-transform', 'zappa',\n",
        "    'subprocess', 'sqlalchemy', 'psycopg', 'flask-sqlalchemy', 'airflow', 'fftw', 'tensorflow-core-platform',\n",
        "                 'cuda', 'cudnn', 'python', 'ubuntu', 'windows', 'macos', 'centos', 'android', 'ios', 'debian',\n",
        "                 'bazel', 'glibc', 'jetpack', 'gcc', 'gzip', 'coremltools', 'postgres', 'mysql', 'blender', 'emr']"
      ]
    },
    {
      "cell_type": "code",
      "execution_count": 14,
      "metadata": {
        "colab": {
          "base_uri": "https://localhost:8080/"
        },
        "id": "Nik_BGMeoo_P",
        "outputId": "434345cb-10f7-4a04-b50e-0899ef4df557"
      },
      "outputs": [
        {
          "data": {
            "text/plain": [
              "40"
            ]
          },
          "execution_count": 14,
          "metadata": {},
          "output_type": "execute_result"
        }
      ],
      "source": [
        "len(required_pkgs)"
      ]
    },
    {
      "cell_type": "markdown",
      "metadata": {
        "id": "Qh9Q7rnyrJPv"
      },
      "source": [
        "Method2: Search for Certain Packages"
      ]
    },
    {
      "cell_type": "code",
      "execution_count": 15,
      "metadata": {
        "id": "3B1JSnt2ihes"
      },
      "outputs": [],
      "source": [
        "def get_response(url):\n",
        "  response = requests.get(url)\n",
        "  if (response.status_code != 200):\n",
        "    print(\"Fetch Error, retrying ...\")\n",
        "    time.sleep(random.uniform(0, 5))\n",
        "    response = requests.get(url)\n",
        "    if (response.status_code != 200):\n",
        "      print(\"FETCH ERROR AGAIN\")\n",
        "      return -1\n",
        "  else:\n",
        "    return response"
      ]
    },
    {
      "cell_type": "markdown",
      "metadata": {},
      "source": [
        "Trial Example for Tensorflow"
      ]
    },
    {
      "cell_type": "code",
      "execution_count": 16,
      "metadata": {},
      "outputs": [
        {
          "name": "stdout",
          "output_type": "stream",
          "text": [
            "https://libraries.io/conda/tensorflow\n"
          ]
        }
      ],
      "source": [
        "search_url = \"https://libraries.io/search?q=\" + \"tensorflow\"\n",
        "search_response = get_response(search_url)\n",
        "search_doc = BeautifulSoup(search_response.text, 'html.parser')\n",
        "topResult_url = search_doc.find('div', {'class': 'project'}).find('h5').find('a')['href']\n",
        "lib_url = web_url + topResult_url\n",
        "print(lib_url)"
      ]
    },
    {
      "cell_type": "code",
      "execution_count": 17,
      "metadata": {},
      "outputs": [
        {
          "name": "stdout",
          "output_type": "stream",
          "text": [
            "12 12\n",
            "{'Total releases': '/conda/tensorflow/versions', 'Stars': 'https://github.com/tensorflow/tensorflow/stargazers', 'Forks': 'https://github.com/tensorflow/tensorflow/network', 'Watchers': 'https://github.com/tensorflow/tensorflow/watchers', 'Contributors': 'https://github.com/tensorflow/tensorflow/graphs/contributors', 'SourceRank': '/conda/tensorflow/sourcerank'}\n"
          ]
        }
      ],
      "source": [
        "lib_search_response = get_response(lib_url)\n",
        "lib_search_doc = BeautifulSoup(lib_search_response.text, 'html.parser')\n",
        "detail_card = lib_search_doc.find('dl', {'class': 'row detail-card'})\n",
        "key_list = detail_card.find_all('dt', {'class': 'col-xs-8'})\n",
        "value_list = detail_card.find_all('dd', {'class': 'col-xs-4'})\n",
        "href_dic = {}\n",
        "print(len(key_list), len(value_list))\n",
        "\n",
        "for i in range(len(key_list)):\n",
        "    a_element = value_list[i].find('a')\n",
        "    if (a_element):\n",
        "        href_dic[key_list[i].text.strip()] = a_element['href']\n",
        "print(href_dic)\n"
      ]
    },
    {
      "cell_type": "code",
      "execution_count": 18,
      "metadata": {},
      "outputs": [
        {
          "ename": "NameError",
          "evalue": "name 'obtain_stats' is not defined",
          "output_type": "error",
          "traceback": [
            "\u001b[0;31m---------------------------------------------------------------------------\u001b[0m",
            "\u001b[0;31mNameError\u001b[0m                                 Traceback (most recent call last)",
            "\u001b[1;32m/Users/lexiezhou/Desktop/Visual_KnowledgeGraph/client/src/data/fetchWeb/fetchProjData.ipynb Cell 21\u001b[0m line \u001b[0;36m1\n\u001b[0;32m----> <a href='vscode-notebook-cell:/Users/lexiezhou/Desktop/Visual_KnowledgeGraph/client/src/data/fetchWeb/fetchProjData.ipynb#X26sZmlsZQ%3D%3D?line=0'>1</a>\u001b[0m stats \u001b[39m=\u001b[39m obtain_stats(lib_url)\n\u001b[1;32m      <a href='vscode-notebook-cell:/Users/lexiezhou/Desktop/Visual_KnowledgeGraph/client/src/data/fetchWeb/fetchProjData.ipynb#X26sZmlsZQ%3D%3D?line=1'>2</a>\u001b[0m stats\n",
            "\u001b[0;31mNameError\u001b[0m: name 'obtain_stats' is not defined"
          ]
        }
      ],
      "source": [
        "stats = obtain_stats(lib_url)\n",
        "stats"
      ]
    },
    {
      "cell_type": "code",
      "execution_count": 20,
      "metadata": {},
      "outputs": [
        {
          "data": {
            "text/plain": [
              "{'Dependencies': {'value': '5'},\n",
              " 'Dependent packages': {'value': '59'},\n",
              " 'Dependent repositories': {'value': '0'},\n",
              " 'Total releases': {'value': '44', 'href': '/conda/tensorflow/versions'},\n",
              " 'Latest release': {'value': 'May  2, 2023'},\n",
              " 'First release': {'value': 'Jan 19, 2018'},\n",
              " 'Stars': {'value': '177K',\n",
              "  'href': 'https://github.com/tensorflow/tensorflow/stargazers'},\n",
              " 'Forks': {'value': '88.9K',\n",
              "  'href': 'https://github.com/tensorflow/tensorflow/network'},\n",
              " 'Watchers': {'value': '7,693',\n",
              "  'href': 'https://github.com/tensorflow/tensorflow/watchers'},\n",
              " 'Contributors': {'value': '888',\n",
              "  'href': 'https://github.com/tensorflow/tensorflow/graphs/contributors'},\n",
              " 'Repository size': {'value': '887 MB'},\n",
              " 'SourceRank': {'value': '19', 'href': '/conda/tensorflow/sourcerank'}}"
            ]
          },
          "execution_count": 20,
          "metadata": {},
          "output_type": "execute_result"
        }
      ],
      "source": [
        "import json\n",
        "stats_data = {}\n",
        "for key, value in zip(key_list, value_list):\n",
        "    key_text = key.text.strip()\n",
        "    value_text = value.text.strip()\n",
        "\n",
        "    if key_text in href_dic:\n",
        "        stats_data[key_text] = {\n",
        "            'value': value_text,\n",
        "            'href': href_dic[key_text]\n",
        "        }\n",
        "    else:\n",
        "        stats_data[key_text] = {\n",
        "            'value': value_text\n",
        "        }\n",
        "stats_data"
      ]
    },
    {
      "cell_type": "code",
      "execution_count": 21,
      "metadata": {},
      "outputs": [
        {
          "data": {
            "text/plain": [
              "'conda install -c anaconda tensorflow'"
            ]
          },
          "execution_count": 21,
          "metadata": {},
          "output_type": "execute_result"
        }
      ],
      "source": [
        "main_column = lib_search_doc.find('div', {'class': 'col-md-8'}).find('dl')\n",
        "keywords_list = main_column.find('dd').find_all('a')\n",
        "license_list = main_column.find_all('dd')[1].find_all('a')\n",
        "install_command = main_column.find('dd', {\"class\": \"well\"}).find('code').text.strip()\n",
        "\n",
        "keywords = []\n",
        "for keyword in keywords_list:\n",
        "    keywords.append(keyword.text.strip())\n",
        "license = []\n",
        "for lic in license_list:\n",
        "    license.append(lic.text.strip())\n",
        "install_command\n"
      ]
    },
    {
      "cell_type": "code",
      "execution_count": 22,
      "metadata": {},
      "outputs": [
        {
          "data": {
            "text/plain": [
              "'\\n      License\\n    '"
            ]
          },
          "execution_count": 22,
          "metadata": {},
          "output_type": "execute_result"
        }
      ],
      "source": [
        "keyword_title = main_column.find('dt').text\n",
        "license_title = main_column.find_all('dt')[1].text\n",
        "license_title"
      ]
    },
    {
      "cell_type": "code",
      "execution_count": 23,
      "metadata": {},
      "outputs": [
        {
          "data": {
            "text/plain": [
              "{'Dependencies': {'value': '5'},\n",
              " 'Dependent packages': {'value': '59'},\n",
              " 'Dependent repositories': {'value': '0'},\n",
              " 'Total releases': {'value': '44', 'href': '/conda/tensorflow/versions'},\n",
              " 'Latest release': {'value': 'May  2, 2023'},\n",
              " 'First release': {'value': 'Jan 19, 2018'},\n",
              " 'Stars': {'value': '177K',\n",
              "  'href': 'https://github.com/tensorflow/tensorflow/stargazers'},\n",
              " 'Forks': {'value': '88.9K',\n",
              "  'href': 'https://github.com/tensorflow/tensorflow/network'},\n",
              " 'Watchers': {'value': '7,693',\n",
              "  'href': 'https://github.com/tensorflow/tensorflow/watchers'},\n",
              " 'Contributors': {'value': '888',\n",
              "  'href': 'https://github.com/tensorflow/tensorflow/graphs/contributors'},\n",
              " 'Repository size': {'value': '887 MB'},\n",
              " 'SourceRank': {'value': '19', 'href': '/conda/tensorflow/sourcerank'},\n",
              " 'keywords': ['deep-learning',\n",
              "  'deep-neural-networks',\n",
              "  'distributed',\n",
              "  'machine-learning',\n",
              "  'ml',\n",
              "  'neural-network',\n",
              "  'python',\n",
              "  'tensorflow'],\n",
              " 'license': ['Apache-2.0'],\n",
              " 'install_command': 'conda install -c anaconda tensorflow'}"
            ]
          },
          "execution_count": 23,
          "metadata": {},
          "output_type": "execute_result"
        }
      ],
      "source": [
        "stats_data['keywords'] = keywords\n",
        "stats_data['license'] = license\n",
        "stats_data['install_command'] = install_command\n",
        "stats_data"
      ]
    },
    {
      "cell_type": "markdown",
      "metadata": {},
      "source": [
        "Functions for all packages"
      ]
    },
    {
      "cell_type": "code",
      "execution_count": 67,
      "metadata": {
        "id": "nx-AUIRKFPqs"
      },
      "outputs": [],
      "source": [
        "revised_required_pkgs = ['wxpython', 'tensorflow', 'tensorflow-datasets', 'tensorboard', 'pytorch', 'numpy',\n",
        "    'scipy', 'scikit-learn', 'pandas', 'keras', 'flask', 'zappa',\n",
        "    'subprocess', 'sqlalchemy', 'psycopg', 'flask-sqlalchemy', 'tensorflow-core-platform']\n",
        "outlier_required_pkgs = ['tensorflow-transform', 'airflow', 'fftw']"
      ]
    },
    {
      "cell_type": "code",
      "execution_count": 68,
      "metadata": {},
      "outputs": [],
      "source": [
        "def obtain_lib_url(pkg):\n",
        "    search_url = \"https://libraries.io/search?q=\" + pkg\n",
        "    search_response = get_response(search_url)\n",
        "    search_doc = BeautifulSoup(search_response.text, 'html.parser')\n",
        "    topResult_url = search_doc.find('div', {'class': 'project'}).find('h5').find('a')['href']\n",
        "    lib_url = web_url + topResult_url\n",
        "    return lib_url"
      ]
    },
    {
      "cell_type": "code",
      "execution_count": 98,
      "metadata": {},
      "outputs": [],
      "source": [
        "def obtain_ourlier_lib_url(pkg):\n",
        "    search_url = \"https://libraries.io/search?q=\" + pkg\n",
        "    search_response = get_response(search_url)\n",
        "    search_doc = BeautifulSoup(search_response.text, 'html.parser')\n",
        "    topResult_url = search_doc.find_all('div', {'class': 'project'})[1].find('h5').find('a')['href']\n",
        "    lib_url = web_url + topResult_url\n",
        "    return lib_url"
      ]
    },
    {
      "cell_type": "code",
      "execution_count": 83,
      "metadata": {},
      "outputs": [],
      "source": [
        "def check_keyword_index(main_titles):\n",
        "    for i in range(len(main_titles)):\n",
        "        if (main_titles[i].text.strip() == \"Keywords\"):\n",
        "            return i\n",
        "    return -1"
      ]
    },
    {
      "cell_type": "code",
      "execution_count": 84,
      "metadata": {},
      "outputs": [],
      "source": [
        "def check_license_index(main_titles):\n",
        "    for i in range(len(main_titles)):\n",
        "        if (main_titles[i].text.strip() == \"License\"):\n",
        "            return i\n",
        "    return -1"
      ]
    },
    {
      "cell_type": "code",
      "execution_count": 99,
      "metadata": {},
      "outputs": [],
      "source": [
        "def obtain_stats(lib_url):\n",
        "    lib_search_response = get_response(lib_url)\n",
        "    lib_search_doc = BeautifulSoup(lib_search_response.text, 'html.parser')\n",
        "    detail_card = lib_search_doc.find('dl', {'class': 'row detail-card'})\n",
        "    key_list = detail_card.find_all('dt', {'class': 'col-xs-8'})\n",
        "    value_list = detail_card.find_all('dd', {'class': 'col-xs-4'})\n",
        "    href_dic = {}\n",
        "\n",
        "    for i in range(len(key_list)):\n",
        "        a_element = value_list[i].find('a')\n",
        "        if (a_element):\n",
        "            href_dic[key_list[i].text.strip()] = a_element['href']\n",
        "    stats_data = {}\n",
        "    for key, value in zip(key_list, value_list):\n",
        "        key_text = key.text.strip()\n",
        "        value_text = value.text.strip()\n",
        "\n",
        "        if key_text in href_dic:\n",
        "            stats_data[key_text] = {\n",
        "                'value': value_text,\n",
        "                'href': href_dic[key_text]\n",
        "            }\n",
        "        else:\n",
        "            stats_data[key_text] = {\n",
        "                'value': value_text\n",
        "            }\n",
        "    \n",
        "    main_column = lib_search_doc.find('div', {'class': 'col-md-8'}).find('dl')\n",
        "    main_titles = main_column.find_all('dt')\n",
        "    keyword_index= check_keyword_index(main_titles)\n",
        "    license_index = check_license_index(main_titles)\n",
        "\n",
        "    if (keyword_index != -1):\n",
        "        keyword_list = main_column.find_all('dd')[keyword_index].find_all('a')\n",
        "        keywords = []\n",
        "        for keyword in keyword_list:\n",
        "            keywords.append(keyword.text.strip())\n",
        "        stats_data['keywords'] = keywords\n",
        "    else:\n",
        "        stats_data['keywords'] = []\n",
        "    \n",
        "    if (license_index != -1):\n",
        "        license_list = main_column.find_all('dd')[license_index].find_all('a')\n",
        "        license = []\n",
        "        for lic in license_list:\n",
        "            license.append(lic.text.strip())\n",
        "        stats_data['license'] = license\n",
        "    else:\n",
        "        stats_data['license'] = []\n",
        "\n",
        "    try:\n",
        "        install_command = main_column.find('dd', {\"class\": \"well\"}).find('code').text.strip()\n",
        "    except AttributeError:\n",
        "        install_command = \"\"\n",
        "    stats_data['install_command'] = install_command\n",
        "    \n",
        "    return stats_data\n",
        "    "
      ]
    },
    {
      "cell_type": "code",
      "execution_count": 101,
      "metadata": {
        "id": "FYdwA42UaujY"
      },
      "outputs": [],
      "source": [
        "look_up_dic = {}"
      ]
    },
    {
      "cell_type": "code",
      "execution_count": 102,
      "metadata": {
        "colab": {
          "base_uri": "https://localhost:8080/"
        },
        "id": "OPm01lZLrNif",
        "outputId": "9d7e32df-5a59-4a47-ceaa-dc07f82b6707"
      },
      "outputs": [
        {
          "name": "stdout",
          "output_type": "stream",
          "text": [
            "wxpython\n",
            "tensorflow\n",
            "tensorflow-datasets\n",
            "tensorboard\n",
            "pytorch\n",
            "numpy\n",
            "scipy\n",
            "scikit-learn\n",
            "pandas\n",
            "keras\n",
            "flask\n",
            "zappa\n",
            "subprocess\n",
            "sqlalchemy\n",
            "psycopg\n",
            "flask-sqlalchemy\n",
            "tensorflow-core-platform\n"
          ]
        },
        {
          "data": {
            "text/plain": [
              "{'Dependencies': {'value': '0'},\n",
              " 'Dependent packages': {'value': '156'},\n",
              " 'Dependent repositories': {'value': '67'},\n",
              " 'Total releases': {'value': '31', 'href': '/cargo/subprocess/versions'},\n",
              " 'Latest release': {'value': 'May 15, 2022'},\n",
              " 'First release': {'value': 'Jan 14, 2017'},\n",
              " 'Stars': {'value': '381',\n",
              "  'href': 'https://github.com/hniksic/rust-subprocess/stargazers'},\n",
              " 'Forks': {'value': '41',\n",
              "  'href': 'https://github.com/hniksic/rust-subprocess/network'},\n",
              " 'Watchers': {'value': '6',\n",
              "  'href': 'https://github.com/hniksic/rust-subprocess/watchers'},\n",
              " 'Contributors': {'value': '15',\n",
              "  'href': 'https://github.com/hniksic/rust-subprocess/graphs/contributors'},\n",
              " 'Repository size': {'value': '383 KB'},\n",
              " 'SourceRank': {'value': '17', 'href': '/cargo/subprocess/sourcerank'},\n",
              " 'keywords': ['command', 'process', 'pipe', 'execute', 'redirect'],\n",
              " 'license': [],\n",
              " 'install_command': ''}"
            ]
          },
          "execution_count": 102,
          "metadata": {},
          "output_type": "execute_result"
        }
      ],
      "source": [
        "fetch_count = 0\n",
        "for pkg in revised_required_pkgs:\n",
        "  print(pkg)\n",
        "  fetch_count += 1\n",
        "  if fetch_count % 5 == 0:\n",
        "    time.sleep(random.uniform(0, 200))\n",
        "  lib_url = obtain_lib_url(pkg)\n",
        "  look_up_dic[pkg] = obtain_stats(lib_url)\n",
        "\n",
        "for pkg in outlier_required_pkgs:\n",
        "  fetch_count += 1\n",
        "  if fetch_count % 5 == 0:\n",
        "    time.sleep(random.uniform(0, 200))\n",
        "  lib_url = obtain_ourlier_lib_url(pkg)\n",
        "  look_up_dic[pkg] = obtain_stats(lib_url)\n",
        "look_up_dic[\"subprocess\"]"
      ]
    },
    {
      "cell_type": "code",
      "execution_count": 103,
      "metadata": {},
      "outputs": [
        {
          "data": {
            "text/plain": [
              "{'Dependencies': {'value': '0'},\n",
              " 'Dependent packages': {'value': '156'},\n",
              " 'Dependent repositories': {'value': '67'},\n",
              " 'Total releases': {'value': '31', 'href': '/cargo/subprocess/versions'},\n",
              " 'Latest release': {'value': 'May 15, 2022'},\n",
              " 'First release': {'value': 'Jan 14, 2017'},\n",
              " 'Stars': {'value': '381',\n",
              "  'href': 'https://github.com/hniksic/rust-subprocess/stargazers'},\n",
              " 'Forks': {'value': '41',\n",
              "  'href': 'https://github.com/hniksic/rust-subprocess/network'},\n",
              " 'Watchers': {'value': '6',\n",
              "  'href': 'https://github.com/hniksic/rust-subprocess/watchers'},\n",
              " 'Contributors': {'value': '15',\n",
              "  'href': 'https://github.com/hniksic/rust-subprocess/graphs/contributors'},\n",
              " 'Repository size': {'value': '383 KB'},\n",
              " 'SourceRank': {'value': '17', 'href': '/cargo/subprocess/sourcerank'},\n",
              " 'keywords': ['command', 'process', 'pipe', 'execute', 'redirect'],\n",
              " 'license': [],\n",
              " 'install_command': ''}"
            ]
          },
          "execution_count": 103,
          "metadata": {},
          "output_type": "execute_result"
        }
      ],
      "source": [
        "look_up_dic[\"subprocess\"]"
      ]
    },
    {
      "cell_type": "markdown",
      "metadata": {
        "id": "JNTjU9SLoeSt"
      },
      "source": [
        "Convert Dic to Json File"
      ]
    },
    {
      "cell_type": "code",
      "execution_count": 104,
      "metadata": {
        "id": "PKAAOrjaomIw"
      },
      "outputs": [],
      "source": [
        "import json"
      ]
    },
    {
      "cell_type": "code",
      "execution_count": 105,
      "metadata": {
        "id": "KOsb9gohpQfd"
      },
      "outputs": [],
      "source": [
        "STATS = {}"
      ]
    },
    {
      "cell_type": "code",
      "execution_count": 93,
      "metadata": {},
      "outputs": [
        {
          "name": "stdout",
          "output_type": "stream",
          "text": [
            "wxpython\ttensorflow\ttensorflow-datasets\ttensorboard\tpytorch\tnumpy\tscipy\tscikit-learn\tpandas\tkeras\tflask\tzappa\tsubprocess\tsqlalchemy\tpsycopg\tflask-sqlalchemy\ttensorflow-core-platform\ttensorflow-transform\tairflow\tfftw\t"
          ]
        }
      ],
      "source": [
        "for i in look_up_dic.keys():\n",
        "    print(i, end=\"\\t\")"
      ]
    },
    {
      "cell_type": "code",
      "execution_count": 94,
      "metadata": {},
      "outputs": [
        {
          "name": "stdout",
          "output_type": "stream",
          "text": [
            "a b c\n"
          ]
        }
      ],
      "source": [
        "test_list = ['a','b', 'c']\n",
        "str = \" \"\n",
        "print(str.join(test_list))"
      ]
    },
    {
      "cell_type": "code",
      "execution_count": 106,
      "metadata": {
        "id": "tfbeI9GJpId8"
      },
      "outputs": [
        {
          "name": "stdout",
          "output_type": "stream",
          "text": [
            "wxpython\n",
            "tensorflow\n",
            "tensorflow-datasets\n",
            "tensorboard\n",
            "pytorch\n",
            "numpy\n",
            "scipy\n",
            "scikit-learn\n",
            "pandas\n",
            "keras\n",
            "flask\n",
            "zappa\n",
            "subprocess\n",
            "sqlalchemy\n",
            "psycopg\n",
            "flask-sqlalchemy\n",
            "tensorflow-core-platform\n",
            "tensorflow-transform\n",
            "airflow\n",
            "fftw\n"
          ]
        }
      ],
      "source": [
        "# for key, value in look_up_dic.items():\n",
        "\n",
        "#     for item_key, item_value in value.items():\n",
        "\n",
        "#         if item_key == 'keywords':\n",
        "#             print(item_value)\n",
        "#             if len(item_value) == []:\n",
        "#                 value[item_key] = \"\"\n",
        "#             else:\n",
        "#                 keywords_string = \"\"\n",
        "#                 for i in range(len(item_value)):\n",
        "#                     keywords_string += item_value[i] + \" \"\n",
        "#                 value[item_key] = keywords_string\n",
        "\n",
        "#         if item_key == 'license':\n",
        "#             value[key] = item_value[0]\n",
        "        \n",
        "#         if item_key != 'keywords' and item_key != 'license':\n",
        "#             value[key] = item_value\n",
        "#     STATS[key] = value\n",
        "\n",
        "for pri_key, pri_value in look_up_dic.items():\n",
        "    print(pri_key)\n",
        "    if len(pri_value['keywords']) == 0:\n",
        "        pri_value['keywords'] = \"\"\n",
        "    else:\n",
        "        pri_value['keywords'] = \" \".join(pri_value['keywords'])\n",
        "    if len(pri_value['license']) == 0:\n",
        "        pri_value['license'] = \"\"\n",
        "    else:\n",
        "        pri_value['license'] = pri_value['license'][0]\n",
        "\n",
        "\n",
        "    STATS[pri_key] = pri_value"
      ]
    },
    {
      "cell_type": "code",
      "execution_count": 96,
      "metadata": {
        "colab": {
          "base_uri": "https://localhost:8080/"
        },
        "id": "NToOlSZhrUWb",
        "outputId": "29a6a0d5-5b74-42c0-f197-73b79b55bf22"
      },
      "outputs": [
        {
          "data": {
            "text/plain": [
              "{'Dependencies': {'value': '0'},\n",
              " 'Dependent packages': {'value': '52.5K'},\n",
              " 'Dependent repositories': {'value': '84.9K'},\n",
              " 'Total releases': {'value': '152', 'href': '/pypi/numpy/versions'},\n",
              " 'Latest release': {'value': '23 days ago'},\n",
              " 'First release': {'value': 'Dec  2, 2006'},\n",
              " 'Stars': {'value': '24.2K',\n",
              "  'href': 'https://github.com/numpy/numpy/stargazers'},\n",
              " 'Forks': {'value': '8.39K', 'href': 'https://github.com/numpy/numpy/network'},\n",
              " 'Watchers': {'value': '592',\n",
              "  'href': 'https://github.com/numpy/numpy/watchers'},\n",
              " 'Contributors': {'value': '905',\n",
              "  'href': 'https://github.com/numpy/numpy/graphs/contributors'},\n",
              " 'Repository size': {'value': '122 MB'},\n",
              " 'SourceRank': {'value': '31', 'href': '/pypi/numpy/sourcerank'},\n",
              " 'keywords': 'numpy python',\n",
              " 'license': 'Other',\n",
              " 'install_command': 'pip install numpy==1.26.0'}"
            ]
          },
          "execution_count": 96,
          "metadata": {},
          "output_type": "execute_result"
        }
      ],
      "source": [
        "STATS[key]"
      ]
    },
    {
      "cell_type": "code",
      "execution_count": 107,
      "metadata": {
        "id": "Ncam2bBlrX9T"
      },
      "outputs": [],
      "source": [
        "file_path = 'stats.json'\n",
        "with open(file_path, 'w') as json_file:\n",
        "    json.dump(STATS, json_file, indent=4)"
      ]
    }
  ],
  "metadata": {
    "colab": {
      "provenance": []
    },
    "kernelspec": {
      "display_name": "Python 3",
      "name": "python3"
    },
    "language_info": {
      "codemirror_mode": {
        "name": "ipython",
        "version": 3
      },
      "file_extension": ".py",
      "mimetype": "text/x-python",
      "name": "python",
      "nbconvert_exporter": "python",
      "pygments_lexer": "ipython3",
      "version": "3.11.4"
    }
  },
  "nbformat": 4,
  "nbformat_minor": 0
}
